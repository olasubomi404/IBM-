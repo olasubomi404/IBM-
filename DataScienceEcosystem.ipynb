{
 "cells": [
  {
   "cell_type": "markdown",
   "id": "bf2971f9",
   "metadata": {},
   "source": [
    "# Data Science Tools and Ecosystem\n"
   ]
  },
  {
   "cell_type": "markdown",
   "id": "166578c2",
   "metadata": {},
   "source": [
    "In this notebook, Data Science Tools and Ecosystem are summarized."
   ]
  },
  {
   "cell_type": "markdown",
   "id": "83ed5e2f",
   "metadata": {},
   "source": [
    "Some of the popular languages that Data Scientists use are:\n",
    "\n",
    "1. Python  \n",
    "2. R  \n",
    "3. SQL  \n",
    "4. Julia  \n",
    "5. Java\n",
    "\n"
   ]
  },
  {
   "cell_type": "markdown",
   "id": "2f261668",
   "metadata": {},
   "source": [
    "Some of the commonly used libraries used by Data Scientists include:\n",
    "\n",
    "1. NumPy  \n",
    "2. Pandas  \n",
    "3. Matplotlib  \n",
    "4. Scikit-learn  \n",
    "5. TensorFlow  \n",
    "6. PyTorch\n"
   ]
  },
  {
   "cell_type": "markdown",
   "id": "2bc8f92e",
   "metadata": {},
   "source": [
    "| Data Science Tools         |\n",
    "|----------------------------|\n",
    "| Jupyter Notebook           |\n",
    "| RStudio                    |\n",
    "| Apache Zeppelin            |\n"
   ]
  },
  {
   "cell_type": "markdown",
   "id": "2372a382",
   "metadata": {},
   "source": [
    "### Below are a few examples of evaluating arithmetic expressions in Python.\n"
   ]
  },
  {
   "cell_type": "code",
   "execution_count": 4,
   "id": "13285d5c",
   "metadata": {},
   "outputs": [
    {
     "data": {
      "text/plain": [
       "17"
      ]
     },
     "execution_count": 4,
     "metadata": {},
     "output_type": "execute_result"
    }
   ],
   "source": [
    "# This is a simple arithmetic expression to multiply then add integers\n",
    "(3 * 4) + 5\n"
   ]
  },
  {
   "cell_type": "code",
   "execution_count": 5,
   "id": "575b4d3c",
   "metadata": {},
   "outputs": [
    {
     "data": {
      "text/plain": [
       "3.3333333333333335"
      ]
     },
     "execution_count": 5,
     "metadata": {},
     "output_type": "execute_result"
    }
   ],
   "source": [
    "# This will convert 200 minutes to hours by dividing by 60\n",
    "200 / 60\n"
   ]
  },
  {
   "cell_type": "markdown",
   "id": "8c7b6f16",
   "metadata": {},
   "source": [
    "**Objectives:**\n",
    "\n",
    "- List popular languages for Data Science  \n",
    "- Identify commonly used libraries in Data Science  \n",
    "- Demonstrate arithmetic expression examples  \n",
    "- Convert time from minutes to hours  \n",
    "- Create tables to display tools used in Data Science  \n"
   ]
  },
  {
   "cell_type": "markdown",
   "id": "551f15d9",
   "metadata": {},
   "source": [
    "## Author\n",
    "\n",
    "Aina Olasubomi\n"
   ]
  }
 ],
 "metadata": {
  "kernelspec": {
   "display_name": "Python 3 (ipykernel)",
   "language": "python",
   "name": "python3"
  },
  "language_info": {
   "codemirror_mode": {
    "name": "ipython",
    "version": 3
   },
   "file_extension": ".py",
   "mimetype": "text/x-python",
   "name": "python",
   "nbconvert_exporter": "python",
   "pygments_lexer": "ipython3",
   "version": "3.11.4"
  }
 },
 "nbformat": 4,
 "nbformat_minor": 5
}
